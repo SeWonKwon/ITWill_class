{
 "cells": [
  {
   "cell_type": "markdown",
   "metadata": {},
   "source": [
    "■ 12기 수업 전체 일정 (2020년 10월 20일 ~ 2021년 03월 30일)\n",
    "\n",
    "[교육원에서 공부한 내용을 정리한 Githup](https://github.com/SeWonKwon/ITWill_class)\n",
    "\n",
    "| 번호| 과목 | 일정 |시험 | 책 |관련링크|\n",
    "|:---:|:----:|:----:|:---:|:--:|:------:|\n",
    "|1    | SQL  |10월 20일 ~ 11월 13일 |11월 19일| |[노트필기](https://drive.google.com/file/d/16jT2S-XU8Sxbdms7AsJRcJPAjXCCz9un/view?usp=sharing)|\n",
    "|  2 |SQL튜닝|11월 16일 ~ 11월 20일 | | |[노트필기](https://drive.google.com/file/d/1WACDsR8Dzo9isUsW7AGGx0PjvyJxB9FN/view?usp=sharing)|\n",
    "| 3| 파이썬 | 11월 23일 ~ 12월 18일 |12월 23일| 파이썬200제 -정보문화사 |[노트필기](https://drive.google.com/file/d/1R8IYL2AwIRlh-MHPuRYhr-Ep8zsAzZTL/view?usp=sharing)|\n",
    "| 4| 리눅스 | 12월 21일 ~ 12월 24일 |||[노트필기](https://drive.google.com/file/d/1BSQps1pDxalGlY9dLk1AeyzSQ5VkhoZS/view?usp=sharing)|\n",
    "| 5|하둡 & MariaDB  |12월 28일 ~  12월 31일  |1월 7일|| [노트필기](https://drive.google.com/file/d/1BSQps1pDxalGlY9dLk1AeyzSQ5VkhoZS/view?usp=sharing)|\n",
    "| 6|R을 활용한 머신러닝|1월 4일 ~ 1월 29일 |2월 10일(발표)| R을 활용한 기계학습-에이콘|[노트필기](https://drive.google.com/file/d/1HU7GJn6zmFq7QqSNXIEHVM7QB30OHXnT/view?usp=sharing)|\n",
    "| 7| 파이썬을 이용한 머신러닝|2월 1일 ~ 2월 12일 |||[노트필기](https://drive.google.com/file/d/1HU7GJn6zmFq7QqSNXIEHVM7QB30OHXnT/view?usp=sharing)\n",
    "| 8| 딥러닝| 2월 15일 ~ 3월 12일|3월 18일| 밑바닥부터 시작하는 딥러닝 ||\n",
    "| 9| 최종 프로젝트| 3월 15일 ~ 3월 30일|3월 30일(발표)|||\n",
    "\n",
    "\n",
    " \n",
    "\n"
   ]
  }
 ],
 "metadata": {
  "kernelspec": {
   "display_name": "Python 3",
   "language": "python",
   "name": "python3"
  },
  "language_info": {
   "codemirror_mode": {
    "name": "ipython",
    "version": 3
   },
   "file_extension": ".py",
   "mimetype": "text/x-python",
   "name": "python",
   "nbconvert_exporter": "python",
   "pygments_lexer": "ipython3",
   "version": "3.8.5"
  },
  "toc": {
   "base_numbering": 1,
   "nav_menu": {},
   "number_sections": true,
   "sideBar": true,
   "skip_h1_title": false,
   "title_cell": "Table of Contents",
   "title_sidebar": "Contents",
   "toc_cell": false,
   "toc_position": {},
   "toc_section_display": true,
   "toc_window_display": false
  }
 },
 "nbformat": 4,
 "nbformat_minor": 4
}
